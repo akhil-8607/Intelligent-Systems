{
 "cells": [
  {
   "cell_type": "code",
   "execution_count": 48,
   "metadata": {},
   "outputs": [],
   "source": [
    "import numpy as np\n",
    "from numpy.linalg import matrix_power as mp\n",
    "from numpy import linalg as LA\n",
    "import matplotlib.pyplot as plt "
   ]
  },
  {
   "cell_type": "code",
   "execution_count": 49,
   "metadata": {},
   "outputs": [],
   "source": [
    "M = np.zeros([101,101])"
   ]
  },
  {
   "cell_type": "code",
   "execution_count": 50,
   "metadata": {},
   "outputs": [],
   "source": [
    "#problem 1.a\n",
    "for i in range (101):\n",
    "    for j in range (101):\n",
    "        if ((i>j)&(i-j<7)):\n",
    "            M[i][j]=1/6\n",
    "for i in range(1,7):\n",
    "    M[100,100-i]=(7-i)/6\n",
    "M[100][100]=1"
   ]
  },
  {
   "cell_type": "code",
   "execution_count": 51,
   "metadata": {},
   "outputs": [
    {
     "data": {
      "text/plain": [
       "True"
      ]
     },
     "execution_count": 51,
     "metadata": {},
     "output_type": "execute_result"
    }
   ],
   "source": [
    "#problem 1.b\n",
    "sum=0\n",
    "j=80\n",
    "for i in range (101):\n",
    "    sum = sum +M[i][j]\n",
    "np.allclose([sum],[1])\n",
    "\n",
    "#checking if sum of all elements in a column is one"
   ]
  },
  {
   "cell_type": "markdown",
   "metadata": {},
   "source": [
    "sum of all the elements in a cloumn is 1 so M is a Matrix"
   ]
  },
  {
   "cell_type": "code",
   "execution_count": 52,
   "metadata": {},
   "outputs": [],
   "source": [
    "#problem 1.c\n",
    "X0 = np.zeros([101,1])\n",
    "X0[0][0]=1\n",
    "#print(X0)"
   ]
  },
  {
   "cell_type": "code",
   "execution_count": 53,
   "metadata": {},
   "outputs": [],
   "source": [
    "#problem 1.d \n",
    "X1=np.dot(M,X0)\n",
    "#print(X1)"
   ]
  },
  {
   "cell_type": "code",
   "execution_count": 54,
   "metadata": {},
   "outputs": [],
   "source": [
    "#problem 1.e\n",
    "\n",
    "#xk =M^k*x0\n",
    "def x_vector(k):\n",
    "    m=mp(M, k)\n",
    "    xk=np.dot(m,X0)\n",
    "    return xk\n",
    "    #print(xk)"
   ]
  },
  {
   "cell_type": "code",
   "execution_count": 55,
   "metadata": {},
   "outputs": [],
   "source": [
    "#x_vector(100)"
   ]
  },
  {
   "cell_type": "code",
   "execution_count": 56,
   "metadata": {},
   "outputs": [],
   "source": [
    "#problem 1.h\n",
    "k=0\n",
    "m=mp(M, k)\n",
    "xj=X0\n",
    "while True:\n",
    "    k=k+1\n",
    "    xk=np.dot(m,xj)\n",
    "    if np.array_equal(xk,xj):\n",
    "        steady_state=xk\n",
    "        break"
   ]
  },
  {
   "cell_type": "code",
   "execution_count": 57,
   "metadata": {
    "scrolled": true
   },
   "outputs": [
    {
     "name": "stdout",
     "output_type": "stream",
     "text": [
      "first eigen [1. 0. 0. 0. 0. 0. 0. 0. 0. 0. 0. 0. 0. 0. 0. 0. 0. 0. 0. 0. 0. 0. 0. 0.\n",
      " 0. 0. 0. 0. 0. 0. 0. 0. 0. 0. 0. 0. 0. 0. 0. 0. 0. 0. 0. 0. 0. 0. 0. 0.\n",
      " 0. 0. 0. 0. 0. 0. 0. 0. 0. 0. 0. 0. 0. 0. 0. 0. 0. 0. 0. 0. 0. 0. 0. 0.\n",
      " 0. 0. 0. 0. 0. 0. 0. 0. 0. 0. 0. 0. 0. 0. 0. 0. 0. 0. 0. 0. 0. 0. 0. 0.\n",
      " 0. 0. 0. 0. 0.]\n",
      "steady state [[1. 0. 0. 0. 0. 0. 0. 0. 0. 0. 0. 0. 0. 0. 0. 0. 0. 0. 0. 0. 0. 0. 0. 0.\n",
      "  0. 0. 0. 0. 0. 0. 0. 0. 0. 0. 0. 0. 0. 0. 0. 0. 0. 0. 0. 0. 0. 0. 0. 0.\n",
      "  0. 0. 0. 0. 0. 0. 0. 0. 0. 0. 0. 0. 0. 0. 0. 0. 0. 0. 0. 0. 0. 0. 0. 0.\n",
      "  0. 0. 0. 0. 0. 0. 0. 0. 0. 0. 0. 0. 0. 0. 0. 0. 0. 0. 0. 0. 0. 0. 0. 0.\n",
      "  0. 0. 0. 0. 0.]]\n"
     ]
    },
    {
     "data": {
      "text/plain": [
       "True"
      ]
     },
     "execution_count": 57,
     "metadata": {},
     "output_type": "execute_result"
    }
   ],
   "source": [
    "steady_state=np.stack(steady_state,axis=1)\n",
    "first_eigen=LA.eig(M)[0] #first eigen vector \n",
    "print(\"first eigen\",first_eigen)\n",
    "print(\"steady state\",steady_state)\n",
    "np.allclose([steady_state],first_eigen) #check if they are equal"
   ]
  },
  {
   "cell_type": "markdown",
   "metadata": {},
   "source": [
    "It can be observed that first eigen vector of markov matrix is equal to the steady state vector "
   ]
  },
  {
   "cell_type": "code",
   "execution_count": 58,
   "metadata": {},
   "outputs": [
    {
     "name": "stdout",
     "output_type": "stream",
     "text": [
      "probability that game finishes after 10 steps [0.]\n",
      "Probability that game finishes after 100 steps [1.]\n"
     ]
    }
   ],
   "source": [
    "#problem 1.h part B\n",
    "a=x_vector(10)\n",
    "print(\"probability that game finishes after 10 steps\",a[100])\n",
    "b=x_vector(100)\n",
    "print(\"Probability that game finishes after 100 steps\",b[100])"
   ]
  },
  {
   "cell_type": "code",
   "execution_count": 59,
   "metadata": {},
   "outputs": [
    {
     "data": {
      "image/png": "[encoded data removed]",
      "text/plain": [
       "<matplotlib.figure.Figure at 0x179e13b3ba8>"
      ]
     },
     "metadata": {},
     "output_type": "display_data"
    }
   ],
   "source": [
    "#problem 1.i \n",
    "x=[]\n",
    "y=[]\n",
    "for k in range(100):\n",
    "    x.append(k)\n",
    "    y.append((x_vector(k)[100]))\n",
    "plt.plot(x,y)\n",
    "plt.show()"
   ]
  },
  {
   "cell_type": "code",
   "execution_count": 60,
   "metadata": {},
   "outputs": [],
   "source": [
    "#problem 1.j\n",
    "def p_exact(k):\n",
    "    p=(x_vector(k)[100])-(x_vector(k-1)[100])\n",
    "    return p"
   ]
  },
  {
   "cell_type": "code",
   "execution_count": 61,
   "metadata": {},
   "outputs": [
    {
     "data": {
      "text/plain": [
       "array([1.36741174e-10])"
      ]
     },
     "execution_count": 61,
     "metadata": {},
     "output_type": "execute_result"
    }
   ],
   "source": [
    "p_exact(50)"
   ]
  },
  {
   "cell_type": "code",
   "execution_count": 63,
   "metadata": {},
   "outputs": [
    {
     "name": "stdout",
     "output_type": "stream",
     "text": [
      "expected number of steps to finish the game is  28.047619047619\n"
     ]
    },
    {
     "data": {
      "image/png": "[encoded data removed]",
      "text/plain": [
       "<matplotlib.figure.Figure at 0x179e12f9438>"
      ]
     },
     "metadata": {},
     "output_type": "display_data"
    }
   ],
   "source": [
    "#problem 1.k\n",
    "\n",
    "x=[]\n",
    "y=[]\n",
    "for k in range(1,101):\n",
    "    x.append(k)\n",
    "    y.append((p_exact(k)))\n",
    "    \n",
    "instance_prob=[]\n",
    "for i in range(len(y)):\n",
    "    instance_prob.append(y[i][0])\n",
    "s=0\n",
    "for j in range(len(instance_prob)):\n",
    "    s += (j*instance_prob[j])\n",
    "print(\"expected number of steps to finish the game is \",s)\n",
    "plt.plot(x,y)\n",
    "plt.show()"
   ]
  },
  {
   "cell_type": "code",
   "execution_count": null,
   "metadata": {},
   "outputs": [],
   "source": []
  }
 ],
 "metadata": {
  "kernelspec": {
   "display_name": "Python 3",
   "language": "python",
   "name": "python3"
  },
  "language_info": {
   "codemirror_mode": {
    "name": "ipython",
    "version": 3
   },
   "file_extension": ".py",
   "mimetype": "text/x-python",
   "name": "python",
   "nbconvert_exporter": "python",
   "pygments_lexer": "ipython3",
   "version": "3.6.4"
  }
 },
 "nbformat": 4,
 "nbformat_minor": 2
}
