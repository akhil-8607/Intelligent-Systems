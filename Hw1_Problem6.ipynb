{
 "cells": [
  {
   "cell_type": "code",
   "execution_count": 4,
   "metadata": {},
   "outputs": [],
   "source": [
    "from numpy import array, dot, random\n",
    "from random import choice\n",
    "from matplotlib import pyplot as plt\n",
    "import numpy as np"
   ]
  },
  {
   "cell_type": "code",
   "execution_count": 55,
   "metadata": {},
   "outputs": [],
   "source": [
    "\n",
    "# Your goal is to complete this function by writing the necessary functions\n",
    "#Input parameters\n",
    "#   X: training data matrix. Here, X is an mxn matrix (a 2D numpy array), \n",
    "#   where each row represents a trining example and each column represents a feature. \n",
    "#   Y: expected output for the training data. In our examples, Y is an mx1 vector\n",
    "#   eta: learning rate\n",
    "#   epochs: number of iterations\n",
    "\n",
    "#task1\n",
    "def InitWeight(X):\n",
    "        r =  []\n",
    "        for i in range(X.shape[1]):\n",
    "            r.append(random.uniform(-1,1))\n",
    "        return r \n",
    "    \n",
    "    \n",
    "#task2\n",
    "def WeightedSUM(w,x):\n",
    "    return np.dot(w,x)\n",
    "\n",
    "#task3 \n",
    "def UnitStep(w_sum):\n",
    "    if w_sum >= 0:\n",
    "     return 1\n",
    "    else:\n",
    "     return 0\n",
    "#task3\n",
    "def ComputeError(y,y_pred):\n",
    " return (y-y_pred)\n",
    "\n",
    "#task4\n",
    "def UpdateWeight(w,eta,error,x):\n",
    " w+=eta*error*x\n",
    " return w \n",
    "\n",
    "#def ComputeAccuracy(X,Y,w):\n",
    "def ComputeAccuracy(Pred,Y):\n",
    "        count = 0\n",
    "        for i in range(len(Pred)):\n",
    "            if(Pred[i] == Y[i]):\n",
    "                count = count + 1\n",
    "        return float(count/len(Pred))\n",
    "  \n",
    "def PlotAccuracy(accuracy, epochs):\n",
    "    plt.plot(range(epochs), accuracy)\n",
    "    plt.show()\n",
    "    return\n",
    "\n",
    "def perceptron_training(X,Y, eta, epochs):\n",
    "    \n",
    "    #Task 1: randomly initialize the weights \n",
    "    # what is the shape of the weight array w? Get this information from X \n",
    "    w = InitWeight(X) # write this InitWeight function\n",
    "    #print(w)\n",
    "    accuracy = []\n",
    "    # Run iterations\n",
    "    for i in range(epochs):\n",
    "        predictions = []\n",
    "        # in eveery iteration train for every training examples\n",
    "        for x, y in zip(X, Y):\n",
    "            \n",
    "            # Task 2: Compute weighted sum based on w and x\n",
    "            \n",
    "            w_sum = WeightedSUM(w,x) # write this WeightedSUM function\n",
    "            # Task 3: Use a step function to get the predicted output \n",
    "            \n",
    "            y_pred = UnitStep(w_sum) # write this UnitStep function\n",
    "            # Task 3: Compute error (predicted-expected output)\n",
    "\n",
    "            error = ComputeError(y,y_pred) # write this ComputeError function\n",
    "            # Task 4: update weights\n",
    "            w = UpdateWeight(w,eta,error,x) # write this UpdateWeight function\n",
    "            \n",
    "            #print(y_pred)\n",
    "            predictions.append(y_pred)\n",
    "            #print(error)\n",
    "          \n",
    "        \n",
    "        # Task 5: Compute accuracy of your current model\n",
    "        # The accuracy computation is similar to the above operation (except that you don't update weights)\n",
    "        # The accuracy should be normalized (0<= accuracy <= 1)\n",
    "        #print(predictions)\n",
    "        acc = ComputeAccuracy(predictions, Y)\n",
    "        #ComputeAccuracy(X,Y,w) # write this ComputeAccuracy function (you can use WeightedSUM and UnitStep functions)\n",
    "        accuracy.append(acc)\n",
    "     \n",
    "    # Task 6: plot accuracy\n",
    "    #print(accuracy)\n",
    "    PlotAccuracy(accuracy, epochs) # # write this functions\n",
    "    "
   ]
  },
  {
   "cell_type": "code",
   "execution_count": 56,
   "metadata": {},
   "outputs": [
    {
     "data": {
      "image/png": "[encoded data removed]",
      "text/plain": [
       "<matplotlib.figure.Figure at 0x1658e8304a8>"
      ]
     },
     "metadata": {},
     "output_type": "display_data"
    }
   ],
   "source": [
    "# Testing your code:\n",
    "# learn the binary OR function\n",
    "# we added an extra 1 to remove bias\n",
    "# you can try removing the eextra 1 to see how the accuracy is affected\n",
    "OR_X = np.array([[0,0,1], [0,1,1],[1,0,1],[1,1,1]])\n",
    "OR_Y = np.array([0,1,1,1])\n",
    "perceptron_training(OR_X,OR_Y, .2, 100)\n",
    "\n"
   ]
  },
  {
   "cell_type": "code",
   "execution_count": null,
   "metadata": {},
   "outputs": [],
   "source": [
    "#  The accuracy is less till the 4th epoch and later the perceptron predicted the correct output"
   ]
  },
  {
   "cell_type": "code",
   "execution_count": 57,
   "metadata": {},
   "outputs": [
    {
     "name": "stdout",
     "output_type": "stream",
     "text": [
      "Shape of X: (569, 30)\n",
      "Shape of Y: (569,)\n"
     ]
    },
    {
     "data": {
      "image/png": "[encoded data removed]",
      "text/plain": [
       "<matplotlib.figure.Figure at 0x1658edf6a90>"
      ]
     },
     "metadata": {},
     "output_type": "display_data"
    }
   ],
   "source": [
    "# Testing your code with real data:\n",
    "# You may have to install sklearn\n",
    "import sklearn.datasets\n",
    "breast_cancer = sklearn.datasets.load_breast_cancer()\n",
    "X = breast_cancer.data\n",
    "Y = breast_cancer.target\n",
    "print (\"Shape of X:\", X.shape)\n",
    "print (\"Shape of Y:\", Y.shape)\n",
    "perceptron_training(X,Y, .2, 1000)\n",
    "\n"
   ]
  },
  {
   "cell_type": "code",
   "execution_count": null,
   "metadata": {},
   "outputs": [],
   "source": [
    "#  The Perceptron improved accurcy over the first 100 epochs and later it and carried the accuracy of  around 90% "
   ]
  }
 ],
 "metadata": {
  "kernelspec": {
   "display_name": "Python 3",
   "language": "python",
   "name": "python3"
  },
  "language_info": {
   "codemirror_mode": {
    "name": "ipython",
    "version": 3
   },
   "file_extension": ".py",
   "mimetype": "text/x-python",
   "name": "python",
   "nbconvert_exporter": "python",
   "pygments_lexer": "ipython3",
   "version": "3.6.4"
  }
 },
 "nbformat": 4,
 "nbformat_minor": 2
}
