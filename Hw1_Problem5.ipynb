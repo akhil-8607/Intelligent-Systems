{
 "cells": [
  {
   "cell_type": "code",
   "execution_count": 9,
   "metadata": {},
   "outputs": [],
   "source": [
    "import numpy as np\n",
    "import scipy.io as sio"
   ]
  },
  {
   "cell_type": "markdown",
   "metadata": {},
   "source": [
    "### Load data from .mat file"
   ]
  },
  {
   "cell_type": "code",
   "execution_count": 10,
   "metadata": {},
   "outputs": [],
   "source": [
    "mat_contents = sio.loadmat('ash85_data.mat') # ash85_data\n",
    "data1 = mat_contents['x']"
   ]
  },
  {
   "cell_type": "markdown",
   "metadata": {},
   "source": [
    "### Print the format of the data: compressed sparse column format(csc)"
   ]
  },
  {
   "cell_type": "code",
   "execution_count": 11,
   "metadata": {},
   "outputs": [
    {
     "data": {
      "text/plain": [
       "(85, 85)"
      ]
     },
     "execution_count": 11,
     "metadata": {},
     "output_type": "execute_result"
    }
   ],
   "source": [
    "data1.shape"
   ]
  },
  {
   "cell_type": "markdown",
   "metadata": {},
   "source": [
    "### Return a dense ndarray representation of this matrix."
   ]
  },
  {
   "cell_type": "code",
   "execution_count": 12,
   "metadata": {
    "scrolled": false
   },
   "outputs": [
    {
     "name": "stdout",
     "output_type": "stream",
     "text": [
      "(85, 85)\n",
      "[[1. 1. 0. ... 0. 0. 0.]\n",
      " [1. 1. 1. ... 0. 0. 0.]\n",
      " [0. 1. 1. ... 0. 0. 0.]\n",
      " ...\n",
      " [0. 0. 0. ... 1. 1. 0.]\n",
      " [0. 0. 0. ... 1. 1. 1.]\n",
      " [0. 0. 0. ... 0. 1. 1.]]\n"
     ]
    }
   ],
   "source": [
    "A = data1.todense() # or todense()\n",
    "print(A.shape)\n",
    "print(A)"
   ]
  },
  {
   "cell_type": "code",
   "execution_count": 13,
   "metadata": {},
   "outputs": [
    {
     "name": "stdout",
     "output_type": "stream",
     "text": [
      "[[ 1.          1.          0.         ...  0.          0.\n",
      "   0.        ]\n",
      " [ 0.          1.          1.         ...  0.          0.\n",
      "   0.        ]\n",
      " [ 1.          0.          1.         ...  0.          0.\n",
      "   0.        ]\n",
      " ...\n",
      " [ 0.          0.          0.         ...  1.44838616  0.71503344\n",
      "   0.970631  ]\n",
      " [ 0.          0.          0.         ...  0.16000803  0.5735796\n",
      "   0.04416784]\n",
      " [ 0.          0.          0.         ...  0.82212407  0.36926846\n",
      "  -1.3339167 ]]\n",
      "---------------------------------------------------------------------------------------------\n",
      "[ 0  2  2  3  5  5  7  7  8  9 13 13 12 21 16 15 17 17 19 20 20 22 46 24\n",
      " 24 26 26 28 38 41 42 63 62 34 37 64 38 37 65 47 40 70 50 51 64 47 70 48\n",
      " 56 50 60 63 52 55 82 55 57 64 58 60 72 73 82 68 65 66 67 70 69 82 84 71\n",
      " 75 74 74 76 84 77 79 80 81 82 83 84 84]\n",
      "-----------------------------------------------------------------------------------------------\n",
      "[ 0.75216479  0.3912359  -0.44870113  2.89228549  0.79847809 -0.46129625\n",
      " -2.19273157  2.51062713 -0.37050643 -1.83482026  0.37050643 -0.77774862\n",
      " -0.57504592  3.0467069  -0.15927578 -2.49619522  0.93217003  2.40540541\n",
      "  0.34977696 -2.82222514  3.91301496 -0.37050643 -1.91301496 -0.22225138\n",
      "  3.03896615 -2.46693781 -0.44056678  1.87811598 -4.20939386  0.43426922\n",
      "  4.0930202   3.4850433  -3.66845972 -3.26279192  3.83888743  0.64615586\n",
      " -0.42784046  2.6725269   1.01666229 -1.45722907  7.11414327  0.08593545\n",
      "  1.12122802  1.60614012  0.43020205  0.63697192 -0.30057728 -1.92311729\n",
      " -3.49829441  1.86945684 -3.10561532 -1.17108371 -0.33140908  1.04119654\n",
      " -1.04119654 -0.70978746 -2.51259512 -0.30070848  3.08895303  1.22382577\n",
      "  3.29113094 -0.09826817  1.34977696  3.31868276 -0.22225138 -2.6725269\n",
      " -2.61663605  5.07386513 -1.45722907 -3.68918919 -1.9843873   0.93072684\n",
      "  0.09826817 -1.98569929 -1.20716347  4.19286277  1.30543165 -4.49829441\n",
      " -3.19286277  2.31107321  1.60614012  0.43505642 -0.33140908  2.64733666\n",
      " -0.27473104]\n"
     ]
    }
   ],
   "source": [
    "from scipy.linalg import lu_factor, lu_solve\n",
    "# Task 1: LU factorization\n",
    "LU,P = lu_factor(A)\n",
    "print(LU)\n",
    "print(\"---------------------------------------------------------------------------------------------\")\n",
    "print(P)\n",
    "print(\"-----------------------------------------------------------------------------------------------\")\n",
    "# define a right hand vector b with all ones\n",
    "B =[1]*85\n",
    "x = lu_solve((LU, P), B)\n",
    "print(x)\n",
    "# use lu_factor and lu_solve to solve Ax=b for both inputs\n",
    "# solve for ash85_data\n",
    "\n"
   ]
  },
  {
   "cell_type": "code",
   "execution_count": 14,
   "metadata": {},
   "outputs": [
    {
     "data": {
      "text/plain": [
       "True"
      ]
     },
     "execution_count": 14,
     "metadata": {},
     "output_type": "execute_result"
    }
   ],
   "source": [
    "# Task 2: verify the correctness of your solutions. \n",
    "# In the verification, you can use \n",
    "# numpy.allclose function that allows some tolerance\n",
    "np.allclose(np.dot(A,x),B)"
   ]
  }
 ],
 "metadata": {
  "kernelspec": {
   "display_name": "Python 3",
   "language": "python",
   "name": "python3"
  },
  "language_info": {
   "codemirror_mode": {
    "name": "ipython",
    "version": 3
   },
   "file_extension": ".py",
   "mimetype": "text/x-python",
   "name": "python",
   "nbconvert_exporter": "python",
   "pygments_lexer": "ipython3",
   "version": "3.6.4"
  }
 },
 "nbformat": 4,
 "nbformat_minor": 2
}
